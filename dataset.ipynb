{
 "cells": [
  {
   "attachments": {},
   "cell_type": "markdown",
   "metadata": {},
   "source": [
    "# Import packages and utils"
   ]
  },
  {
   "cell_type": "code",
   "execution_count": 1,
   "metadata": {},
   "outputs": [],
   "source": [
    "import logging\n",
    "import time\n",
    "from contextlib import contextmanager\n",
    "import pandas as pd\n",
    "import numpy as np\n",
    "from multiprocessing import Pool, cpu_count\n",
    "import multiprocessing_logging\n",
    "from src.utils._get_data import DataHandler\n",
    "# after setting up your logger\n",
    "logging.basicConfig(level=logging.INFO)\n",
    "multiprocessing_logging.install_mp_handler()\n"
   ]
  },
  {
   "cell_type": "code",
   "execution_count": 2,
   "metadata": {},
   "outputs": [],
   "source": [
    "# Create a context manager for timing sections of code\n",
    "@contextmanager\n",
    "def log_time(section_name: str):\n",
    "    \"\"\"\n",
    "    Context manager for timing sections of your code. \n",
    "    It logs completion time on successful completion of the with block.\n",
    "    \"\"\"\n",
    "    start_time = time.time()\n",
    "    yield\n",
    "    end_time = time.time()\n",
    "    elapsed_time = end_time - start_time\n",
    "    logging.info(f\"{section_name} completed in {elapsed_time} seconds\")\n"
   ]
  },
  {
   "attachments": {},
   "cell_type": "markdown",
   "metadata": {},
   "source": [
    "# Load Data\n",
    "\n",
    "Please see the DataHandler class from the following path for detailed implementation\n",
    "* `src.utils._get_data.py -> DataHandler()`"
   ]
  },
  {
   "cell_type": "code",
   "execution_count": 3,
   "metadata": {},
   "outputs": [],
   "source": [
    "# Describe the data you want to get\n",
    "data_names = [\n",
    "    'load_data',\n",
    "    'load_forecast',\n",
    "    'generation_data',\n",
    "    'generation_forecast',\n",
    "    'wind_and_solar_forecast',\n",
    "    'day_ahead_prices'\n",
    "]\n",
    "\n",
    "# Describe the country code, start and end dates\n",
    "country_code = 'DE_LU'\n",
    "start = pd.Timestamp('2023-01-01', tz='Europe/Berlin')\n",
    "end = pd.Timestamp('2023-01-05', tz='Europe/Berlin')\n"
   ]
  },
  {
   "attachments": {},
   "cell_type": "markdown",
   "metadata": {},
   "source": [
    "#### Add multiprocessing to speed up data loading process"
   ]
  },
  {
   "cell_type": "code",
   "execution_count": 4,
   "metadata": {},
   "outputs": [],
   "source": [
    "# function to load a single dataset\n",
    "def load_single_dataset(args):\n",
    "    dataset_name, data_handler = args\n",
    "    try:\n",
    "        with log_time(dataset_name):\n",
    "            df = data_handler._get_data(dataset_name)\n",
    "            logging.info(f\"{dataset_name} data retrieved successfully\")\n",
    "            return dataset_name, df\n",
    "    except Exception as e:\n",
    "        logging.error(f\"Error while loading {dataset_name}: {e}\")\n",
    "        raise e\n",
    "\n",
    "def load_dataset():\n",
    "    df_dict = {} # Dictionary to store the dataframes\n",
    "    try:\n",
    "        with log_time(\"DataHandler\"):\n",
    "            data_handler = DataHandler()\n",
    "            logging.info(\"DataHandler object created successfully\")\n",
    "            data_handler._set_data_settings(country_code, start, end)\n",
    "            logging.info(\"DataHandler settings set successfully\")\n",
    "            with Pool(cpu_count()) as pool:\n",
    "                results = pool.map(load_single_dataset, [(name, data_handler) for name in data_names])\n",
    "            for dataset_name, df in results:\n",
    "                df_dict[dataset_name] = df\n",
    "    except Exception as e:\n",
    "        logging.error(f\"Error while creating DataHandler: {e}\")\n",
    "        raise e\n",
    "\n",
    "    return df_dict\n"
   ]
  },
  {
   "cell_type": "code",
   "execution_count": 5,
   "metadata": {},
   "outputs": [
    {
     "ename": "AttributeError",
     "evalue": "module 'multiprocessing_logging' has no attribute 'error'",
     "output_type": "error",
     "traceback": [
      "\u001b[0;31m---------------------------------------------------------------------------\u001b[0m",
      "\u001b[0;31mAttributeError\u001b[0m                            Traceback (most recent call last)",
      "Cell \u001b[0;32mIn[4], line 18\u001b[0m, in \u001b[0;36mload_dataset\u001b[0;34m()\u001b[0m\n\u001b[1;32m     17\u001b[0m data_handler \u001b[39m=\u001b[39m DataHandler()\n\u001b[0;32m---> 18\u001b[0m multiprocessing_logging\u001b[39m.\u001b[39;49minfo(\u001b[39m\"\u001b[39m\u001b[39mDataHandler object created successfully\u001b[39m\u001b[39m\"\u001b[39m)\n\u001b[1;32m     19\u001b[0m data_handler\u001b[39m.\u001b[39m_set_data_settings(country_code, start, end)\n",
      "\u001b[0;31mAttributeError\u001b[0m: module 'multiprocessing_logging' has no attribute 'info'",
      "\nDuring handling of the above exception, another exception occurred:\n",
      "\u001b[0;31mAttributeError\u001b[0m                            Traceback (most recent call last)",
      "Cell \u001b[0;32mIn[5], line 1\u001b[0m\n\u001b[0;32m----> 1\u001b[0m df_dict \u001b[39m=\u001b[39m load_dataset()\n",
      "Cell \u001b[0;32mIn[4], line 27\u001b[0m, in \u001b[0;36mload_dataset\u001b[0;34m()\u001b[0m\n\u001b[1;32m     24\u001b[0m             df_dict[dataset_name] \u001b[39m=\u001b[39m df\n\u001b[1;32m     26\u001b[0m \u001b[39mexcept\u001b[39;00m \u001b[39mException\u001b[39;00m \u001b[39mas\u001b[39;00m e:\n\u001b[0;32m---> 27\u001b[0m     multiprocessing_logging\u001b[39m.\u001b[39;49merror(\u001b[39mf\u001b[39m\u001b[39m\"\u001b[39m\u001b[39mError while creating DataHandler: \u001b[39m\u001b[39m{\u001b[39;00me\u001b[39m}\u001b[39;00m\u001b[39m\"\u001b[39m)\n\u001b[1;32m     28\u001b[0m     \u001b[39mraise\u001b[39;00m e\n\u001b[1;32m     30\u001b[0m \u001b[39mreturn\u001b[39;00m df_dict\n",
      "\u001b[0;31mAttributeError\u001b[0m: module 'multiprocessing_logging' has no attribute 'error'"
     ]
    }
   ],
   "source": [
    "df_dict = load_dataset()"
   ]
  },
  {
   "cell_type": "code",
   "execution_count": null,
   "metadata": {},
   "outputs": [],
   "source": []
  },
  {
   "cell_type": "code",
   "execution_count": null,
   "metadata": {},
   "outputs": [],
   "source": []
  },
  {
   "cell_type": "code",
   "execution_count": null,
   "metadata": {},
   "outputs": [],
   "source": []
  }
 ],
 "metadata": {
  "kernelspec": {
   "display_name": "eon",
   "language": "python",
   "name": "eon"
  },
  "language_info": {
   "codemirror_mode": {
    "name": "ipython",
    "version": 3
   },
   "file_extension": ".py",
   "mimetype": "text/x-python",
   "name": "python",
   "nbconvert_exporter": "python",
   "pygments_lexer": "ipython3",
   "version": "3.9.16"
  },
  "orig_nbformat": 4
 },
 "nbformat": 4,
 "nbformat_minor": 2
}
